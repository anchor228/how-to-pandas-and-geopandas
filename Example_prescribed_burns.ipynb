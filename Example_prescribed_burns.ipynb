{
 "cells": [
  {
   "cell_type": "markdown",
   "metadata": {},
   "source": [
    "# Prescribed Burns data for SA and NSW\n",
    "This notebook uses data that is publically available for download from data.gov.au. The data you need is in the Shapefiles folder of this repo, so you should be able to run this code right away. The original notebook for the burns project uses data from VIC as well but you won't be able to download that from data.gov.au because it's like a really big file and you have to ask for it. The aim is to learn how to manipulate spatial data with geopandas. "
   ]
  },
  {
   "cell_type": "code",
   "execution_count": 2,
   "metadata": {},
   "outputs": [],
   "source": [
    "#run imports for the system and geopandas. I've also imported a mapping module incase you want to map anything. \n",
    "import sys\n",
    "import numpy as np\n",
    "import pandas as pd\n",
    "import xarray as xr\n",
    "import geopandas as gpd\n",
    "import ipyleaflet as ipyl\n",
    "import ipywidgets as ipyw\n",
    "import json\n",
    "\n",
    "\n",
    "from collections import OrderedDict\n",
    "\n",
    "\n",
    "cmaps = OrderedDict()"
   ]
  },
  {
   "cell_type": "markdown",
   "metadata": {},
   "source": [
    "### Read the files and filter for prescribed burns\n",
    "This will give you a dataset of prescribed burns for each state. Use the geopandas read_file() function."
   ]
  },
  {
   "cell_type": "code",
   "execution_count": 4,
   "metadata": {},
   "outputs": [],
   "source": [
    "#Read the shape files with geopandas\n",
    "SA_gdf = gpd.read_file('Shapefiles/FIREMGT_LastFire_GDA94.shp')\n",
    "NSW_gdf = gpd.read_file('Shapefiles/NPWS_FireHistory_20200326.shp')"
   ]
  },
  {
   "cell_type": "markdown",
   "metadata": {},
   "source": [
    "### Alright let's have a look at the columns we have in these shapefiles"
   ]
  },
  {
   "cell_type": "code",
   "execution_count": 9,
   "metadata": {},
   "outputs": [
    {
     "data": {
      "text/html": [
       "<div>\n",
       "<style scoped>\n",
       "    .dataframe tbody tr th:only-of-type {\n",
       "        vertical-align: middle;\n",
       "    }\n",
       "\n",
       "    .dataframe tbody tr th {\n",
       "        vertical-align: top;\n",
       "    }\n",
       "\n",
       "    .dataframe thead th {\n",
       "        text-align: right;\n",
       "    }\n",
       "</style>\n",
       "<table border=\"1\" class=\"dataframe\">\n",
       "  <thead>\n",
       "    <tr style=\"text-align: right;\">\n",
       "      <th></th>\n",
       "      <th>INCIDENTNU</th>\n",
       "      <th>INCIDENTNA</th>\n",
       "      <th>INCIDENTTY</th>\n",
       "      <th>FIREDATE</th>\n",
       "      <th>FINANCIALY</th>\n",
       "      <th>FIREYEAR</th>\n",
       "      <th>SEASON</th>\n",
       "      <th>DATERELIAB</th>\n",
       "      <th>SHAPE_Leng</th>\n",
       "      <th>SHAPE_Area</th>\n",
       "      <th>geometry</th>\n",
       "    </tr>\n",
       "  </thead>\n",
       "  <tbody>\n",
       "    <tr>\n",
       "      <th>0</th>\n",
       "      <td>0</td>\n",
       "      <td>None</td>\n",
       "      <td>Bushfire</td>\n",
       "      <td>1931-12-31</td>\n",
       "      <td>1931/1932</td>\n",
       "      <td>1931</td>\n",
       "      <td>SUMMER</td>\n",
       "      <td>6</td>\n",
       "      <td>0.199605</td>\n",
       "      <td>0.00021</td>\n",
       "      <td>MULTIPOLYGON (((136.91089 -36.02206, 136.91090...</td>\n",
       "    </tr>\n",
       "  </tbody>\n",
       "</table>\n",
       "</div>"
      ],
      "text/plain": [
       "   INCIDENTNU INCIDENTNA INCIDENTTY    FIREDATE FINANCIALY  FIREYEAR  SEASON  \\\n",
       "0           0       None   Bushfire  1931-12-31  1931/1932      1931  SUMMER   \n",
       "\n",
       "   DATERELIAB  SHAPE_Leng  SHAPE_Area  \\\n",
       "0           6    0.199605     0.00021   \n",
       "\n",
       "                                            geometry  \n",
       "0  MULTIPOLYGON (((136.91089 -36.02206, 136.91090...  "
      ]
     },
     "execution_count": 9,
     "metadata": {},
     "output_type": "execute_result"
    }
   ],
   "source": [
    "SA_gdf.head(1)"
   ]
  },
  {
   "cell_type": "code",
   "execution_count": 10,
   "metadata": {},
   "outputs": [
    {
     "data": {
      "text/html": [
       "<div>\n",
       "<style scoped>\n",
       "    .dataframe tbody tr th:only-of-type {\n",
       "        vertical-align: middle;\n",
       "    }\n",
       "\n",
       "    .dataframe tbody tr th {\n",
       "        vertical-align: top;\n",
       "    }\n",
       "\n",
       "    .dataframe thead th {\n",
       "        text-align: right;\n",
       "    }\n",
       "</style>\n",
       "<table border=\"1\" class=\"dataframe\">\n",
       "  <thead>\n",
       "    <tr style=\"text-align: right;\">\n",
       "      <th></th>\n",
       "      <th>FireName</th>\n",
       "      <th>FireNo</th>\n",
       "      <th>Label</th>\n",
       "      <th>StartDate</th>\n",
       "      <th>EndDate</th>\n",
       "      <th>AreaHa</th>\n",
       "      <th>PerimeterM</th>\n",
       "      <th>Verdate</th>\n",
       "      <th>geometry</th>\n",
       "    </tr>\n",
       "  </thead>\n",
       "  <tbody>\n",
       "    <tr>\n",
       "      <th>0</th>\n",
       "      <td>None</td>\n",
       "      <td>None</td>\n",
       "      <td>1968-69 Prescribed Burn</td>\n",
       "      <td>1968-10-01</td>\n",
       "      <td>None</td>\n",
       "      <td>2.18477</td>\n",
       "      <td>1548.960666</td>\n",
       "      <td>26/03/2020</td>\n",
       "      <td>POLYGON ((153.14143 -30.17730, 153.14144 -30.1...</td>\n",
       "    </tr>\n",
       "  </tbody>\n",
       "</table>\n",
       "</div>"
      ],
      "text/plain": [
       "  FireName FireNo                    Label   StartDate EndDate   AreaHa  \\\n",
       "0     None   None  1968-69 Prescribed Burn  1968-10-01    None  2.18477   \n",
       "\n",
       "    PerimeterM     Verdate                                           geometry  \n",
       "0  1548.960666  26/03/2020  POLYGON ((153.14143 -30.17730, 153.14144 -30.1...  "
      ]
     },
     "execution_count": 10,
     "metadata": {},
     "output_type": "execute_result"
    }
   ],
   "source": [
    "NSW_gdf.head(1)"
   ]
  },
  {
   "cell_type": "markdown",
   "metadata": {},
   "source": [
    "We have to filter the columns that say what kind of burn it was, whether it was a bushfire or a prescribed burn because we only want prescribed burns. We can see what unique values are in those columns. Then we can filter for only prescribed burns."
   ]
  },
  {
   "cell_type": "code",
   "execution_count": 11,
   "metadata": {},
   "outputs": [
    {
     "data": {
      "text/plain": [
       "array(['Bushfire', 'Prescribed Burn'], dtype=object)"
      ]
     },
     "execution_count": 11,
     "metadata": {},
     "output_type": "execute_result"
    }
   ],
   "source": [
    "SA_gdf.INCIDENTTY.unique()"
   ]
  },
  {
   "cell_type": "code",
   "execution_count": 12,
   "metadata": {},
   "outputs": [
    {
     "data": {
      "text/plain": [
       "array(['1968-69 Prescribed Burn', '1970-71 Prescribed Burn',\n",
       "       '1971-72 Prescribed Burn', '1972-73 Prescribed Burn',\n",
       "       '1974-75 Prescribed Burn', '1975-76 Prescribed Burn',\n",
       "       '1976-77 Prescribed Burn', '1977-78 Prescribed Burn',\n",
       "       '1978-79 Prescribed Burn', '1979-80 Prescribed Burn',\n",
       "       '1980-81 Prescribed Burn', '1981-82 Prescribed Burn',\n",
       "       '1982-83 Prescribed Burn', '1983-84 Prescribed Burn',\n",
       "       '1984-85 Prescribed Burn', '1985-86 Prescribed Burn',\n",
       "       '1986-87 Prescribed Burn', '1987-88 Prescribed Burn',\n",
       "       '1988-89 Prescribed Burn', '1989-90 Prescribed Burn',\n",
       "       '1990-91 Prescribed Burn', '1991-92 Prescribed Burn',\n",
       "       '1992-93 Prescribed Burn', '1993-94 Prescribed Burn',\n",
       "       '1994-95 Prescribed Burn', '1995-96 Prescribed Burn',\n",
       "       '1996-97 Prescribed Burn', '1997-98 Prescribed Burn',\n",
       "       '1998-99 Prescribed Burn', '1999-00 Prescribed Burn',\n",
       "       '2000-01 Prescribed Burn', '2001-02 Prescribed Burn',\n",
       "       '2002-03 Prescribed Burn', '2003-04 Prescribed Burn',\n",
       "       '2004-05 Prescribed Burn', '2005-06 Prescribed Burn',\n",
       "       '2006-07 Prescribed Burn', '2007-08 Prescribed Burn',\n",
       "       '2008-09 Prescribed Burn', '2010-11 Prescribed Burn',\n",
       "       '1943-44 Wildfire', '1946-47 Wildfire', '1951-52 Wildfire',\n",
       "       '1954-55 Wildfire', '1957-58 Wildfire', '1958-59 Wildfire',\n",
       "       '1962-63 Wildfire', '1963-64 Wildfire', '1964-65 Wildfire',\n",
       "       '1965-66 Wildfire', '1966-67 Wildfire', '1967-68 Wildfire',\n",
       "       '1968-69 Wildfire', '1969-70 Wildfire', '1970-71 Wildfire',\n",
       "       '1971-72 Wildfire', '1972-73 Wildfire', '1973-74 Wildfire',\n",
       "       '1974-75 Wildfire', '1975-76 Wildfire', '1976-77 Wildfire',\n",
       "       '1977-78 Wildfire', '1978-79 Wildfire', '1979-80 Wildfire',\n",
       "       '1980-81 Wildfire', '1981-82 Wildfire', '1982-83 Wildfire',\n",
       "       '1983-84 Wildfire', '1984-85 Wildfire', '1985-86 Wildfire',\n",
       "       '1986-87 Wildfire', '1987-88 Wildfire', '1988-89 Wildfire',\n",
       "       '1989-90 Wildfire', '1990-91 Wildfire', '1991-92 Wildfire',\n",
       "       '1992-93 Wildfire', '1993-94 Wildfire', '1994-95 Wildfire',\n",
       "       '1995-96 Wildfire', '1996-97 Wildfire', '1997-98 Wildfire',\n",
       "       '1998-99 Wildfire', '1999-00 Wildfire', '2000-01 Wildfire',\n",
       "       '2001-02 Wildfire', '2002-03 Wildfire', '2003-04 Wildfire',\n",
       "       '2004-05 Wildfire', '2005-06 Wildfire', '2006-07 Wildfire',\n",
       "       '2007-08 Wildfire', '2008-09 Wildfire', '2009-10 Wildfire',\n",
       "       '1935-36 Wildfire', '1960-61 Wildfire', '1959-60 Wildfire',\n",
       "       '1952-53 Wildfire', '1950-51 Wildfire', '1942-43 Wildfire',\n",
       "       '1949-50 Wildfire', '1948-49 Wildfire', '1961-62 Wildfire',\n",
       "       '1947-48 Wildfire', '1953-54 Wildfire', '1937-38 Wildfire',\n",
       "       '2009-10 Prescribed Burn', '1969-70 Prescribed Burn',\n",
       "       '1973-74 Prescribed Burn', '1956-57 Wildfire', '1941-42 Wildfire',\n",
       "       '1939-40 Wildfire', '1938-39 Wildfire', '2012-13 Prescribed Burn',\n",
       "       '1967-68 Prescribed Burn', '1926-27 Wildfire', '1955-56 Wildfire',\n",
       "       '2010-11 Wildfire', '1902-03 Wildfire', '1944-45 Wildfire',\n",
       "       '1945-46 Wildfire', '1957-58 Prescribed Burn',\n",
       "       '1960-61 Prescribed Burn', '1961-62 Prescribed Burn',\n",
       "       '1964-65 Prescribed Burn', '1965-66 Prescribed Burn',\n",
       "       '2011-12 Prescribed Burn', '2011-12 Wildfire', '2012-13 Wildfire',\n",
       "       '2013-14 Wildfire', '2013-14 Prescribed Burn',\n",
       "       '2014-15 Prescribed Burn', '2014-15 Wildfire',\n",
       "       '2015-16 Prescribed Burn', '2015-16 Wildfire', '1903-04 Wildfire',\n",
       "       '2016-17 Prescribed Burn', '2016-17 Wildfire', '2017-18 Wildfire',\n",
       "       '2017-18 Prescribed Burn', '2018-19 Wildfire',\n",
       "       '2018-19 Prescribed Burn', '2019-20 Prescribed Burn',\n",
       "       '2019-20 Wildfire'], dtype=object)"
      ]
     },
     "execution_count": 12,
     "metadata": {},
     "output_type": "execute_result"
    }
   ],
   "source": [
    "NSW_gdf.Label.unique()"
   ]
  },
  {
   "cell_type": "code",
   "execution_count": 2,
   "metadata": {},
   "outputs": [],
   "source": [
    "#Choose only prescribed burns\n",
    "SA_gdf = SA_gdf[SA_gdf['INCIDENTTY'].str.contains(\"Prescribed Burn\")]\n",
    "NSW_gdf = NSW_gdf[NSW_gdf['Label'].str.contains(\"Prescribed Burn\")]"
   ]
  },
  {
   "cell_type": "markdown",
   "metadata": {},
   "source": [
    "### Get the right columns\n",
    "We want the state code, the year of the burn, the date of the burn, the area and the geometry. The NSW data needs a bit of format work. We can delete all the columns we don't need. "
   ]
  },
  {
   "cell_type": "code",
   "execution_count": 3,
   "metadata": {},
   "outputs": [],
   "source": [
    "#Fix the year format for the NSW data\n",
    "#The column called 'Label' has both the year and the type of burn in it. Split it into seperate columns\n",
    "NSW_gdf[['year', 'burn type', 'burn']] = NSW_gdf['Label'].str.split(expand=True)\n",
    "#delete the last 3 characters from the data in the year column as a string to change '1957-58' into '1957'\n",
    "NSW_gdf['year'] = NSW_gdf['year'].str[:-3]\n",
    "#Turn the string back into a number (int64 format)\n",
    "NSW_gdf.year = NSW_gdf.year.astype('int64')"
   ]
  },
  {
   "cell_type": "code",
   "execution_count": 3,
   "metadata": {},
   "outputs": [],
   "source": [
    "#Delete the columns that we don't need\n",
    "SA_gdf = SA_gdf.drop(columns=['INCIDENTNU', 'INCIDENTNA', 'INCIDENTTY', 'FINANCIALY', 'SEASON', 'DATERELIAB', 'SHAPE_Leng'])\n",
    "VIC_gdf = VIC_gdf.drop(columns=['FIRETYPE', 'STRTDATIT', 'CR_DATE', 'FIRE_NO', 'NAME', 'TREAT_TYPE', \n",
    "                                'FIRE_SVRTY', 'FIRE_COVER', 'FIREKEY', 'UPDATEDATE', 'CFA_ID', 'METHOD', \n",
    "                                'METHD_CMNT', 'DSE_ID', 'ACCURACY', 'DISTRICTID'])\n",
    "NSW_gdf = NSW_gdf.drop(columns=['FireName', 'FireNo', 'EndDate', 'PerimeterM', 'Verdate', 'burn type', 'burn', 'Label'])\n",
    "\n",
    "#Arrange the data by year of burn\n",
    "SA_gdf = SA_gdf.sort_values(by=['FIREYEAR'])\n",
    "VIC_gdf = VIC_gdf.sort_values(by=['SEASON'])\n",
    "NSW_gdf = NSW_gdf.sort_values(by=['year'])\n",
    "\n",
    "#Add a column that has the state code in it\n",
    "SA_gdf['STATE'] = 'SA'\n",
    "VIC_gdf['STATE'] = 'VIC'\n",
    "NSW_gdf['STATE'] = 'NSW'\n",
    "\n",
    "#rearrange the column order to be consistant\n",
    "SA_gdf = SA_gdf[['STATE', 'FIREYEAR', 'FIREDATE', 'SHAPE_Area', 'geometry']]\n",
    "VIC_gdf = VIC_gdf[['STATE', 'SEASON', 'START_DATE', 'AREA_HA', 'geometry']]\n",
    "NSW_gdf = NSW_gdf[['STATE', 'year', 'StartDate', 'AreaHa', 'geometry']]\n",
    "\n",
    "#Select only years greater then or equal to 1988\n",
    "SA_gdf = SA_gdf[SA_gdf.FIREYEAR >= 1988]\n",
    "VIC_gdf = VIC_gdf[VIC_gdf.SEASON >= 1988]\n",
    "NSW_gdf = NSW_gdf[NSW_gdf.year >= 1988]"
   ]
  },
  {
   "cell_type": "markdown",
   "metadata": {},
   "source": [
    "### Get the area of the burn in Hactares\n",
    "The South Australian data has the area in decimal degrees, which was calculated directly from the polygon. We need Hactares, and converting decimal degrees to hactares is like super hard mathematically, so we'll just calculate it from the polygon, which means we have to change the projection type of the dataframe to make it calculate m2 instead of decimal degrees. After it's changed, it loses it's 2D Geometry which means we can't plot it as JSON. So to get around this, we'll make a new dataframe to calculate the area from and append that area column back on to the original dataframe that still has the 2D geometry. "
   ]
  },
  {
   "cell_type": "code",
   "execution_count": 4,
   "metadata": {},
   "outputs": [
    {
     "name": "stderr",
     "output_type": "stream",
     "text": [
      "/env/lib/python3.6/site-packages/pyproj/crs/crs.py:53: FutureWarning: '+init=<authority>:<code>' syntax is deprecated. '<authority>:<code>' is the preferred initialization method. When making the change, be mindful of axis order changes: https://pyproj4.github.io/pyproj/stable/gotchas.html#axis-order-changes-in-proj-6\n",
      "  return _prepare_from_string(\" \".join(pjargs))\n"
     ]
    }
   ],
   "source": [
    "#Make a new data frame that converts the EPSG of the original dataframe. This will change the projection from 2D Geographic into something else. \n",
    "SA_gdf1 = SA_gdf.to_crs({'init': 'epsg:3107'}) #this is epsg for GDA94 South Australia\n",
    "#Make a new column that calculates the area of the polygon (in m2, then /10**4 to get Ha) ??? Is this right?\n",
    "SA_gdf1['cartesian_area'] = SA_gdf1['geometry'].area/10**4\n",
    "\n",
    "#Append the cartesian_area column back onto the original dataframe (that still has 2D Geographic projection)\n",
    "SA_gdf['cartesian_area'] = SA_gdf1['cartesian_area'].to_numpy()\n",
    "#Rearrange columns\n",
    "SA_gdf = SA_gdf[['STATE', 'FIREYEAR', 'FIREDATE', 'SHAPE_Area', 'cartesian_area', 'geometry']]\n"
   ]
  },
  {
   "cell_type": "code",
   "execution_count": 5,
   "metadata": {},
   "outputs": [
    {
     "data": {
      "application/vnd.jupyter.widget-view+json": {
       "model_id": "06f70e0d809d4ac7a6906b24cef76f83",
       "version_major": 2,
       "version_minor": 0
      },
      "text/plain": [
       "VBox(children=(Map(basemap={'url': 'https://{s}.tile.openstreetmap.org/{z}/{x}/{y}.png', 'max_zoom': 19, 'attr…"
      ]
     },
     "metadata": {},
     "output_type": "display_data"
    }
   ],
   "source": [
    "#Converting the data to json\n",
    "data = json.loads(SA_gdf.to_json())\n",
    "\n",
    "map = ipyl.Map(center=[-28, 148], zoom=6)\n",
    "\n",
    "label = ipyw.Label(layout=ipyw.Layout(width='100%'))\n",
    "\n",
    "for feature in data['features']:\n",
    "    feature['properties']['style'] = {\n",
    "        'color': 'grey',\n",
    "        'weight': 1,\n",
    "        'fillColor': 'grey',\n",
    "        'fillOpacity': 0.5\n",
    "    }\n",
    "layer = ipyl.GeoJSON(data=data, hover_style={'fillColor': 'red'})\n",
    "\n",
    "def click_handler(event=None, feature=None, id=None, properties=None):\n",
    "    label.value = str(properties['cartesian_area']) #you can make the value of a column show up by hovering over the polygon\n",
    "    \n",
    "    \n",
    "layer.on_hover(click_handler)\n",
    "map.add_layer(layer)\n",
    "\n",
    "\n",
    "ipyw.VBox([map, label])"
   ]
  },
  {
   "cell_type": "markdown",
   "metadata": {},
   "source": [
    "# We need to evaluate the completeness of the data\n",
    "This could be done by adding the total areas together for each year and comparing that to the tabular data we have on area burnt per year. "
   ]
  },
  {
   "cell_type": "code",
   "execution_count": null,
   "metadata": {},
   "outputs": [],
   "source": []
  }
 ],
 "metadata": {
  "kernelspec": {
   "display_name": "Python 3",
   "language": "python",
   "name": "python3"
  },
  "language_info": {
   "codemirror_mode": {
    "name": "ipython",
    "version": 3
   },
   "file_extension": ".py",
   "mimetype": "text/x-python",
   "name": "python",
   "nbconvert_exporter": "python",
   "pygments_lexer": "ipython3",
   "version": "3.6.9"
  }
 },
 "nbformat": 4,
 "nbformat_minor": 4
}
